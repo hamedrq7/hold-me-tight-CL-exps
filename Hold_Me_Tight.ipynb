{
  "cells": [
    {
      "cell_type": "markdown",
      "metadata": {
        "pycharm": {}
      },
      "source": [
        "# Hold me tight! Influence of discriminative features on deep network boundaries\n",
        "\n",
        "**Authors**: Guillermo Ortiz-Jimenez, Apostolos Modas, Seyed-Mohsen Moosavi-Dezfooli and Pascal Frossard"
      ]
    },
    {
      "cell_type": "markdown",
      "metadata": {
        "pycharm": {}
      },
      "source": [
        "## Requirements"
      ]
    },
    {
      "cell_type": "markdown",
      "metadata": {
        "pycharm": {}
      },
      "source": [
        "For executing the code, please make sure that you meet the following requirements:\n",
        "\n",
        "* python (Successfully tested on v3.8.3)\n",
        "* [PyTorch](https://pytorch.org/get-started/previous-versions/) (Successfully tested on v1.5.0 with CUDA v10.0.130)\n",
        "* [Torchvision](https://pytorch.org/get-started/previous-versions/) (Successfully tested on v0.6.0 with CUDA v10.0.130)\n",
        "* [NumPy](https://numpy.org/) (Successfully tested on v1.18.1)\n",
        "* [torch-dct](https://github.com/zh217/torch-dct) (Successfully tested on v0.1.5)\n",
        "* [Matplotlib](https://matplotlib.org/) (Successfully tested on v3.1.3)\n",
        "\n",
        "In our experiments, every package was installed through a Conda environment. Assuming CUDA v10.0.130 and Conda v4.8.1 (installed through [Miniconda3](https://docs.conda.io/en/latest/miniconda.html) on CentOS Linux 7), these are the corresponding commands:\n",
        "\n",
        "&nbsp;&nbsp;&nbsp; ```conda create -n hold_me_tight python==3.8.3```  \n",
        "&nbsp;&nbsp;&nbsp; ```conda activate hold_me_tight```  \n",
        "&nbsp;&nbsp;&nbsp; ```conda install numpy==1.18.1```  \n",
        "&nbsp;&nbsp;&nbsp; ```conda install pytorch=1.5.0 torchvision=0.6.0 cudatoolkit=10.1 -c pytorch```  \n",
        "&nbsp;&nbsp;&nbsp; ```pip install torch-dct==0.1.5```  \n",
        "&nbsp;&nbsp;&nbsp; ```conda install matplotlib==3.1.3```"
      ]
    },
    {
      "cell_type": "markdown",
      "metadata": {
        "pycharm": {}
      },
      "source": [
        "## Table of contents\n",
        "\n",
        "- [Margin distribution on diagonal of DCT](#margin)\n",
        "    - [Training LeNet on MNIST](#mnist)\n",
        "    - [Evaluating LeNet on MNIST](#margin)\n",
        "    - [LeNet on flipped MNIST](#flipped)\n",
        "- [Frequency manipulated image examples](#images)\n",
        "    - [Flipped data](#flipped_im)\n",
        "    - [Filtered data](#filtered_im)"
      ]
    },
    {
      "cell_type": "markdown",
      "metadata": {
        "pycharm": {}
      },
      "source": [
        "## <a name=margin>Margin distribution on diagonal of DCT<a/>\n",
        "\n",
        "We first give an example of our training procedure and how we obtain the margin distribution of a network. We show this for the LeNet architecture trained on MNIST."
      ]
    },
    {
      "cell_type": "markdown",
      "metadata": {
        "pycharm": {}
      },
      "source": [
        "Let's load the data. Please fix the root path of the project `TREE_ROOT` where all results will be saved."
      ]
    },
    {
      "cell_type": "code",
      "execution_count": 1,
      "metadata": {
        "pycharm": {}
      },
      "outputs": [],
      "source": [
        "TREE_ROOT = './'"
      ]
    },
    {
      "cell_type": "markdown",
      "metadata": {
        "pycharm": {}
      },
      "source": [
        "Set the default PyTorch device"
      ]
    },
    {
      "cell_type": "code",
      "execution_count": 2,
      "metadata": {
        "pycharm": {}
      },
      "outputs": [],
      "source": [
        "import torch\n",
        "\n",
        "DEVICE = 'cuda' if torch.cuda.is_available() else 'cpu'"
      ]
    },
    {
      "cell_type": "markdown",
      "metadata": {
        "pycharm": {}
      },
      "source": [
        "Create the loaders"
      ]
    },
    {
      "cell_type": "code",
      "execution_count": 28,
      "metadata": {
        "pycharm": {}
      },
      "outputs": [],
      "source": [
        "import torchvision\n",
        "import os\n",
        "\n",
        "DATASET_DIR = os.path.join(TREE_ROOT,'/home/hamed/Storage/LDA-FUM HDD/data/MNIST')\n",
        "os.makedirs(DATASET_DIR, exist_ok=True)\n",
        "\n",
        "BATCH_SIZE = 128\n",
        "\n",
        "trainset = torchvision.datasets.MNIST(root=DATASET_DIR, download=True, train=True, transform=torchvision.transforms.ToTensor())\n",
        "testset = torchvision.datasets.MNIST(root=DATASET_DIR, download=True, train=False, transform=torchvision.transforms.ToTensor())\n",
        "\n",
        "pin_memory = True if DEVICE == 'cuda' else False\n",
        "trainloader = torch.utils.data.DataLoader(trainset, batch_size=BATCH_SIZE, shuffle=True,\n",
        "                                              num_workers=2, pin_memory=pin_memory)\n",
        "testloader = torch.utils.data.DataLoader(testset, batch_size=BATCH_SIZE, shuffle=False,\n",
        "                                             num_workers=2, pin_memory=pin_memory)\n",
        "\n",
        "mean = torch.tensor([0.1307], device=DEVICE)[None, :, None, None]\n",
        "std = torch.tensor([0.3081], device=DEVICE)[None, :, None, None]"
      ]
    },
    {
      "cell_type": "markdown",
      "metadata": {
        "pycharm": {}
      },
      "source": [
        "Let's create the model and the normalization layer"
      ]
    },
    {
      "cell_type": "code",
      "execution_count": 29,
      "metadata": {
        "pycharm": {}
      },
      "outputs": [],
      "source": [
        "from model_classes.mnist import LeNet\n",
        "from model_classes import TransformLayer\n",
        "\n",
        "model = LeNet()\n",
        "model = model.to(DEVICE)\n",
        "\n",
        "trans = TransformLayer(mean=mean, std=std)"
      ]
    },
    {
      "cell_type": "markdown",
      "metadata": {
        "pycharm": {}
      },
      "source": [
        "The network will be saved here"
      ]
    },
    {
      "cell_type": "code",
      "execution_count": 30,
      "metadata": {
        "pycharm": {}
      },
      "outputs": [],
      "source": [
        "SAVE_TRAIN_DIR = os.path.join(TREE_ROOT, 'Models/Generated/%s/%s/%s/' % ('CL', 'MNIST', model.__class__.__name__))\n",
        "os.makedirs(SAVE_TRAIN_DIR, exist_ok=True)"
      ]
    },
    {
      "cell_type": "markdown",
      "metadata": {
        "pycharm": {}
      },
      "source": [
        "### <a name=mnist>Training loop</a>\n",
        "\n",
        "We use a standard SGD optimizer with a cyclic learning rate schedule to optimize this network, and a Cross-Entropy loss function. Let's setup the hyperparameters"
      ]
    },
    {
      "cell_type": "code",
      "execution_count": 31,
      "metadata": {
        "pycharm": {}
      },
      "outputs": [],
      "source": [
        "import torch.nn as nn\n",
        "import numpy as np\n",
        "from utils import train, train_cl\n",
        "\n",
        "EPOCHS = 30\n",
        "MAX_LR = 0.21\n",
        "MOMENTUM = 0.9\n",
        "WEIGHT_DECAY = 5e-4\n",
        "\n",
        "opt = torch.optim.SGD(model.parameters(), lr=MAX_LR, momentum=MOMENTUM, weight_decay=WEIGHT_DECAY)\n",
        "loss_fun = nn.CrossEntropyLoss()\n",
        "lr_schedule = lambda t: np.interp([t], [0, EPOCHS * 2 // 5, EPOCHS], [0, MAX_LR, 0])[0]\n"
      ]
    },
    {
      "cell_type": "code",
      "execution_count": 32,
      "metadata": {
        "pycharm": {},
        "scrolled": false
      },
      "outputs": [
        {
          "name": "stdout",
          "output_type": "stream",
          "text": [
            "---> Training a LeNet architecture on MNIST\n",
            "Starting training...\n",
            "\n",
            "Epoch 0\n",
            "Batch idx: 0(0)\tTrain Acc: 8.594%\tTrain Loss: 2.299\n",
            "Batch idx: 100(0)\tTrain Acc: 9.963%\tTrain Loss: 2.297\n",
            "Batch idx: 200(0)\tTrain Acc: 27.328%\tTrain Loss: 2.172\n",
            "Batch idx: 300(0)\tTrain Acc: 45.772%\tTrain Loss: 1.657\n",
            "Batch idx: 400(0)\tTrain Acc: 56.299%\tTrain Loss: 1.342\n",
            "\n",
            "Train Summary\tEpoch: 0 | Train Acc: 61.193% | Train Loss: 1.195\n",
            "Test  Summary\tEpoch: 0 | Test Acc: 91.220% | Test Loss: 0.296\n",
            "\n",
            "Epoch 1\n",
            "Batch idx: 0(1)\tTrain Acc: 96.094%\tTrain Loss: 0.195\n",
            "Batch idx: 100(1)\tTrain Acc: 91.460%\tTrain Loss: 0.275\n",
            "Batch idx: 200(1)\tTrain Acc: 92.246%\tTrain Loss: 0.250\n",
            "Batch idx: 300(1)\tTrain Acc: 93.088%\tTrain Loss: 0.225\n",
            "Batch idx: 400(1)\tTrain Acc: 93.577%\tTrain Loss: 0.207\n",
            "\n",
            "Train Summary\tEpoch: 1 | Train Acc: 93.907% | Train Loss: 0.197\n",
            "Test  Summary\tEpoch: 1 | Test Acc: 96.170% | Test Loss: 0.119\n",
            "\n",
            "Epoch 2\n",
            "Batch idx: 0(2)\tTrain Acc: 91.406%\tTrain Loss: 0.188\n",
            "Batch idx: 100(2)\tTrain Acc: 96.086%\tTrain Loss: 0.125\n",
            "Batch idx: 200(2)\tTrain Acc: 96.475%\tTrain Loss: 0.113\n",
            "Batch idx: 300(2)\tTrain Acc: 96.589%\tTrain Loss: 0.110\n",
            "Batch idx: 400(2)\tTrain Acc: 96.676%\tTrain Loss: 0.107\n",
            "\n",
            "Train Summary\tEpoch: 2 | Train Acc: 96.743% | Train Loss: 0.105\n",
            "Test  Summary\tEpoch: 2 | Test Acc: 97.770% | Test Loss: 0.070\n",
            "\n",
            "Epoch 3\n",
            "Batch idx: 0(3)\tTrain Acc: 97.656%\tTrain Loss: 0.112\n",
            "Batch idx: 100(3)\tTrain Acc: 97.525%\tTrain Loss: 0.081\n",
            "Batch idx: 200(3)\tTrain Acc: 97.540%\tTrain Loss: 0.078\n",
            "Batch idx: 300(3)\tTrain Acc: 97.555%\tTrain Loss: 0.079\n",
            "Batch idx: 400(3)\tTrain Acc: 97.510%\tTrain Loss: 0.080\n",
            "\n",
            "Train Summary\tEpoch: 3 | Train Acc: 97.540% | Train Loss: 0.079\n",
            "Test  Summary\tEpoch: 3 | Test Acc: 97.960% | Test Loss: 0.063\n",
            "\n",
            "Epoch 4\n",
            "Batch idx: 0(4)\tTrain Acc: 97.656%\tTrain Loss: 0.026\n",
            "Batch idx: 100(4)\tTrain Acc: 98.020%\tTrain Loss: 0.065\n",
            "Batch idx: 200(4)\tTrain Acc: 98.072%\tTrain Loss: 0.063\n",
            "Batch idx: 300(4)\tTrain Acc: 98.147%\tTrain Loss: 0.061\n",
            "Batch idx: 400(4)\tTrain Acc: 98.085%\tTrain Loss: 0.062\n",
            "\n",
            "Train Summary\tEpoch: 4 | Train Acc: 98.027% | Train Loss: 0.064\n",
            "Test  Summary\tEpoch: 4 | Test Acc: 98.150% | Test Loss: 0.059\n",
            "\n",
            "Epoch 5\n",
            "Batch idx: 0(5)\tTrain Acc: 100.000%\tTrain Loss: 0.003\n",
            "Batch idx: 100(5)\tTrain Acc: 98.182%\tTrain Loss: 0.059\n",
            "Batch idx: 200(5)\tTrain Acc: 98.278%\tTrain Loss: 0.057\n",
            "Batch idx: 300(5)\tTrain Acc: 98.199%\tTrain Loss: 0.061\n",
            "Batch idx: 400(5)\tTrain Acc: 98.202%\tTrain Loss: 0.060\n",
            "\n",
            "Train Summary\tEpoch: 5 | Train Acc: 98.188% | Train Loss: 0.060\n",
            "Test  Summary\tEpoch: 5 | Test Acc: 98.460% | Test Loss: 0.046\n",
            "\n",
            "Epoch 6\n",
            "Batch idx: 0(6)\tTrain Acc: 98.438%\tTrain Loss: 0.057\n",
            "Batch idx: 100(6)\tTrain Acc: 98.345%\tTrain Loss: 0.054\n",
            "Batch idx: 200(6)\tTrain Acc: 98.204%\tTrain Loss: 0.058\n",
            "Batch idx: 300(6)\tTrain Acc: 98.256%\tTrain Loss: 0.058\n",
            "Batch idx: 400(6)\tTrain Acc: 98.256%\tTrain Loss: 0.058\n",
            "\n",
            "Train Summary\tEpoch: 6 | Train Acc: 98.250% | Train Loss: 0.059\n",
            "Test  Summary\tEpoch: 6 | Test Acc: 98.070% | Test Loss: 0.060\n",
            "\n",
            "Epoch 7\n",
            "Batch idx: 0(7)\tTrain Acc: 97.656%\tTrain Loss: 0.096\n",
            "Batch idx: 100(7)\tTrain Acc: 98.337%\tTrain Loss: 0.052\n",
            "Batch idx: 200(7)\tTrain Acc: 98.309%\tTrain Loss: 0.056\n",
            "Batch idx: 300(7)\tTrain Acc: 98.287%\tTrain Loss: 0.057\n",
            "Batch idx: 400(7)\tTrain Acc: 98.176%\tTrain Loss: 0.061\n",
            "\n",
            "Train Summary\tEpoch: 7 | Train Acc: 98.163% | Train Loss: 0.062\n",
            "Test  Summary\tEpoch: 7 | Test Acc: 98.370% | Test Loss: 0.057\n",
            "\n",
            "Epoch 8\n",
            "Batch idx: 0(8)\tTrain Acc: 97.656%\tTrain Loss: 0.070\n",
            "Batch idx: 100(8)\tTrain Acc: 98.306%\tTrain Loss: 0.063\n",
            "Batch idx: 200(8)\tTrain Acc: 98.208%\tTrain Loss: 0.062\n",
            "Batch idx: 300(8)\tTrain Acc: 98.206%\tTrain Loss: 0.062\n",
            "Batch idx: 400(8)\tTrain Acc: 98.173%\tTrain Loss: 0.062\n",
            "\n",
            "Train Summary\tEpoch: 8 | Train Acc: 98.192% | Train Loss: 0.062\n",
            "Test  Summary\tEpoch: 8 | Test Acc: 97.700% | Test Loss: 0.085\n",
            "\n",
            "Epoch 9\n",
            "Batch idx: 0(9)\tTrain Acc: 96.875%\tTrain Loss: 0.112\n",
            "Batch idx: 100(9)\tTrain Acc: 98.128%\tTrain Loss: 0.066\n",
            "Batch idx: 200(9)\tTrain Acc: 98.169%\tTrain Loss: 0.067\n",
            "Batch idx: 300(9)\tTrain Acc: 98.105%\tTrain Loss: 0.067\n",
            "Batch idx: 400(9)\tTrain Acc: 98.110%\tTrain Loss: 0.067\n",
            "\n",
            "Train Summary\tEpoch: 9 | Train Acc: 98.097% | Train Loss: 0.067\n",
            "Test  Summary\tEpoch: 9 | Test Acc: 98.010% | Test Loss: 0.077\n",
            "\n",
            "Epoch 10\n",
            "Batch idx: 0(10)\tTrain Acc: 98.438%\tTrain Loss: 0.038\n",
            "Batch idx: 100(10)\tTrain Acc: 97.734%\tTrain Loss: 0.077\n",
            "Batch idx: 200(10)\tTrain Acc: 97.886%\tTrain Loss: 0.076\n",
            "Batch idx: 300(10)\tTrain Acc: 97.944%\tTrain Loss: 0.074\n",
            "Batch idx: 400(10)\tTrain Acc: 97.943%\tTrain Loss: 0.075\n",
            "\n",
            "Train Summary\tEpoch: 10 | Train Acc: 97.920% | Train Loss: 0.076\n",
            "Test  Summary\tEpoch: 10 | Test Acc: 98.120% | Test Loss: 0.074\n",
            "\n",
            "Epoch 11\n",
            "Batch idx: 0(11)\tTrain Acc: 98.438%\tTrain Loss: 0.126\n",
            "Batch idx: 100(11)\tTrain Acc: 98.205%\tTrain Loss: 0.071\n",
            "Batch idx: 200(11)\tTrain Acc: 98.060%\tTrain Loss: 0.074\n",
            "Batch idx: 300(11)\tTrain Acc: 97.968%\tTrain Loss: 0.077\n",
            "Batch idx: 400(11)\tTrain Acc: 97.964%\tTrain Loss: 0.076\n",
            "\n",
            "Train Summary\tEpoch: 11 | Train Acc: 97.930% | Train Loss: 0.078\n",
            "Test  Summary\tEpoch: 11 | Test Acc: 97.510% | Test Loss: 0.093\n",
            "\n",
            "Epoch 12\n",
            "Batch idx: 0(12)\tTrain Acc: 96.875%\tTrain Loss: 0.096\n",
            "Batch idx: 100(12)\tTrain Acc: 97.857%\tTrain Loss: 0.080\n",
            "Batch idx: 200(12)\tTrain Acc: 98.002%\tTrain Loss: 0.075\n",
            "Batch idx: 300(12)\tTrain Acc: 98.009%\tTrain Loss: 0.076\n",
            "Batch idx: 400(12)\tTrain Acc: 97.991%\tTrain Loss: 0.076\n",
            "\n",
            "Train Summary\tEpoch: 12 | Train Acc: 97.983% | Train Loss: 0.077\n",
            "Test  Summary\tEpoch: 12 | Test Acc: 98.510% | Test Loss: 0.056\n",
            "\n",
            "Epoch 13\n",
            "Batch idx: 0(13)\tTrain Acc: 97.656%\tTrain Loss: 0.050\n",
            "Batch idx: 100(13)\tTrain Acc: 98.120%\tTrain Loss: 0.071\n",
            "Batch idx: 200(13)\tTrain Acc: 98.010%\tTrain Loss: 0.075\n",
            "Batch idx: 300(13)\tTrain Acc: 98.030%\tTrain Loss: 0.073\n",
            "Batch idx: 400(13)\tTrain Acc: 98.038%\tTrain Loss: 0.073\n",
            "\n",
            "Train Summary\tEpoch: 13 | Train Acc: 98.035% | Train Loss: 0.073\n",
            "Test  Summary\tEpoch: 13 | Test Acc: 97.660% | Test Loss: 0.084\n",
            "\n",
            "Epoch 14\n",
            "Batch idx: 0(14)\tTrain Acc: 96.094%\tTrain Loss: 0.207\n",
            "Batch idx: 100(14)\tTrain Acc: 98.298%\tTrain Loss: 0.064\n",
            "Batch idx: 200(14)\tTrain Acc: 98.263%\tTrain Loss: 0.063\n",
            "Batch idx: 300(14)\tTrain Acc: 98.323%\tTrain Loss: 0.062\n",
            "Batch idx: 400(14)\tTrain Acc: 98.258%\tTrain Loss: 0.063\n",
            "\n",
            "Train Summary\tEpoch: 14 | Train Acc: 98.233% | Train Loss: 0.063\n",
            "Test  Summary\tEpoch: 14 | Test Acc: 98.370% | Test Loss: 0.060\n",
            "\n",
            "Epoch 15\n",
            "Batch idx: 0(15)\tTrain Acc: 100.000%\tTrain Loss: 0.015\n",
            "Batch idx: 100(15)\tTrain Acc: 98.422%\tTrain Loss: 0.063\n",
            "Batch idx: 200(15)\tTrain Acc: 98.422%\tTrain Loss: 0.059\n",
            "Batch idx: 300(15)\tTrain Acc: 98.450%\tTrain Loss: 0.059\n",
            "Batch idx: 400(15)\tTrain Acc: 98.426%\tTrain Loss: 0.059\n",
            "\n",
            "Train Summary\tEpoch: 15 | Train Acc: 98.412% | Train Loss: 0.059\n",
            "Test  Summary\tEpoch: 15 | Test Acc: 98.350% | Test Loss: 0.061\n",
            "\n",
            "Epoch 16\n",
            "Batch idx: 0(16)\tTrain Acc: 99.219%\tTrain Loss: 0.019\n",
            "Batch idx: 100(16)\tTrain Acc: 98.770%\tTrain Loss: 0.045\n",
            "Batch idx: 200(16)\tTrain Acc: 98.640%\tTrain Loss: 0.049\n",
            "Batch idx: 300(16)\tTrain Acc: 98.593%\tTrain Loss: 0.051\n",
            "Batch idx: 400(16)\tTrain Acc: 98.552%\tTrain Loss: 0.051\n",
            "\n",
            "Train Summary\tEpoch: 16 | Train Acc: 98.523% | Train Loss: 0.052\n",
            "Test  Summary\tEpoch: 16 | Test Acc: 98.750% | Test Loss: 0.044\n",
            "\n",
            "Epoch 17\n",
            "Batch idx: 0(17)\tTrain Acc: 97.656%\tTrain Loss: 0.056\n",
            "Batch idx: 100(17)\tTrain Acc: 98.902%\tTrain Loss: 0.036\n",
            "Batch idx: 200(17)\tTrain Acc: 98.869%\tTrain Loss: 0.040\n",
            "Batch idx: 300(17)\tTrain Acc: 98.746%\tTrain Loss: 0.044\n",
            "Batch idx: 400(17)\tTrain Acc: 98.702%\tTrain Loss: 0.045\n",
            "\n",
            "Train Summary\tEpoch: 17 | Train Acc: 98.717% | Train Loss: 0.045\n",
            "Test  Summary\tEpoch: 17 | Test Acc: 98.280% | Test Loss: 0.057\n",
            "\n",
            "Epoch 18\n",
            "Batch idx: 0(18)\tTrain Acc: 98.438%\tTrain Loss: 0.044\n",
            "Batch idx: 100(18)\tTrain Acc: 98.871%\tTrain Loss: 0.038\n",
            "Batch idx: 200(18)\tTrain Acc: 98.861%\tTrain Loss: 0.040\n",
            "Batch idx: 300(18)\tTrain Acc: 98.824%\tTrain Loss: 0.040\n",
            "Batch idx: 400(18)\tTrain Acc: 98.839%\tTrain Loss: 0.040\n",
            "\n",
            "Train Summary\tEpoch: 18 | Train Acc: 98.830% | Train Loss: 0.041\n",
            "Test  Summary\tEpoch: 18 | Test Acc: 98.670% | Test Loss: 0.046\n",
            "\n",
            "Epoch 19\n",
            "Batch idx: 0(19)\tTrain Acc: 99.219%\tTrain Loss: 0.022\n",
            "Batch idx: 100(19)\tTrain Acc: 98.933%\tTrain Loss: 0.037\n",
            "Batch idx: 200(19)\tTrain Acc: 98.966%\tTrain Loss: 0.036\n",
            "Batch idx: 300(19)\tTrain Acc: 98.980%\tTrain Loss: 0.035\n",
            "Batch idx: 400(19)\tTrain Acc: 98.975%\tTrain Loss: 0.036\n",
            "\n",
            "Train Summary\tEpoch: 19 | Train Acc: 98.958% | Train Loss: 0.036\n",
            "Test  Summary\tEpoch: 19 | Test Acc: 98.880% | Test Loss: 0.040\n",
            "\n",
            "Epoch 20\n",
            "Batch idx: 0(20)\tTrain Acc: 100.000%\tTrain Loss: 0.014\n",
            "Batch idx: 100(20)\tTrain Acc: 99.049%\tTrain Loss: 0.032\n",
            "Batch idx: 200(20)\tTrain Acc: 99.098%\tTrain Loss: 0.031\n",
            "Batch idx: 300(20)\tTrain Acc: 99.162%\tTrain Loss: 0.030\n",
            "Batch idx: 400(20)\tTrain Acc: 99.139%\tTrain Loss: 0.029\n",
            "\n",
            "Train Summary\tEpoch: 20 | Train Acc: 99.102% | Train Loss: 0.030\n",
            "Test  Summary\tEpoch: 20 | Test Acc: 98.710% | Test Loss: 0.046\n",
            "\n",
            "Epoch 21\n",
            "Batch idx: 0(21)\tTrain Acc: 98.438%\tTrain Loss: 0.076\n",
            "Batch idx: 100(21)\tTrain Acc: 99.196%\tTrain Loss: 0.027\n",
            "Batch idx: 200(21)\tTrain Acc: 99.122%\tTrain Loss: 0.029\n",
            "Batch idx: 300(21)\tTrain Acc: 99.076%\tTrain Loss: 0.031\n",
            "Batch idx: 400(21)\tTrain Acc: 99.049%\tTrain Loss: 0.031\n",
            "\n",
            "Train Summary\tEpoch: 21 | Train Acc: 99.048% | Train Loss: 0.031\n",
            "Test  Summary\tEpoch: 21 | Test Acc: 98.820% | Test Loss: 0.040\n",
            "\n",
            "Epoch 22\n",
            "Batch idx: 0(22)\tTrain Acc: 100.000%\tTrain Loss: 0.002\n",
            "Batch idx: 100(22)\tTrain Acc: 99.420%\tTrain Loss: 0.021\n",
            "Batch idx: 200(22)\tTrain Acc: 99.370%\tTrain Loss: 0.022\n",
            "Batch idx: 300(22)\tTrain Acc: 99.395%\tTrain Loss: 0.020\n",
            "Batch idx: 400(22)\tTrain Acc: 99.357%\tTrain Loss: 0.022\n",
            "\n",
            "Train Summary\tEpoch: 22 | Train Acc: 99.340% | Train Loss: 0.022\n",
            "Test  Summary\tEpoch: 22 | Test Acc: 98.970% | Test Loss: 0.034\n",
            "\n",
            "Epoch 23\n",
            "Batch idx: 0(23)\tTrain Acc: 100.000%\tTrain Loss: 0.002\n",
            "Batch idx: 100(23)\tTrain Acc: 99.397%\tTrain Loss: 0.018\n",
            "Batch idx: 200(23)\tTrain Acc: 99.495%\tTrain Loss: 0.015\n",
            "Batch idx: 300(23)\tTrain Acc: 99.478%\tTrain Loss: 0.017\n",
            "Batch idx: 400(23)\tTrain Acc: 99.441%\tTrain Loss: 0.017\n",
            "\n",
            "Train Summary\tEpoch: 23 | Train Acc: 99.435% | Train Loss: 0.018\n",
            "Test  Summary\tEpoch: 23 | Test Acc: 99.140% | Test Loss: 0.030\n",
            "\n",
            "Epoch 24\n",
            "Batch idx: 0(24)\tTrain Acc: 100.000%\tTrain Loss: 0.008\n",
            "Batch idx: 100(24)\tTrain Acc: 99.714%\tTrain Loss: 0.011\n",
            "Batch idx: 200(24)\tTrain Acc: 99.607%\tTrain Loss: 0.013\n",
            "Batch idx: 300(24)\tTrain Acc: 99.580%\tTrain Loss: 0.014\n",
            "Batch idx: 400(24)\tTrain Acc: 99.567%\tTrain Loss: 0.014\n",
            "\n",
            "Train Summary\tEpoch: 24 | Train Acc: 99.577% | Train Loss: 0.014\n",
            "Test  Summary\tEpoch: 24 | Test Acc: 99.220% | Test Loss: 0.028\n",
            "\n",
            "Epoch 25\n",
            "Batch idx: 0(25)\tTrain Acc: 100.000%\tTrain Loss: 0.004\n",
            "Batch idx: 100(25)\tTrain Acc: 99.660%\tTrain Loss: 0.010\n",
            "Batch idx: 200(25)\tTrain Acc: 99.658%\tTrain Loss: 0.011\n",
            "Batch idx: 300(25)\tTrain Acc: 99.681%\tTrain Loss: 0.010\n",
            "Batch idx: 400(25)\tTrain Acc: 99.671%\tTrain Loss: 0.010\n",
            "\n",
            "Train Summary\tEpoch: 25 | Train Acc: 99.668% | Train Loss: 0.011\n",
            "Test  Summary\tEpoch: 25 | Test Acc: 99.250% | Test Loss: 0.024\n",
            "\n",
            "Epoch 26\n",
            "Batch idx: 0(26)\tTrain Acc: 100.000%\tTrain Loss: 0.003\n",
            "Batch idx: 100(26)\tTrain Acc: 99.807%\tTrain Loss: 0.007\n",
            "Batch idx: 200(26)\tTrain Acc: 99.806%\tTrain Loss: 0.007\n",
            "Batch idx: 300(26)\tTrain Acc: 99.811%\tTrain Loss: 0.007\n",
            "Batch idx: 400(26)\tTrain Acc: 99.788%\tTrain Loss: 0.007\n",
            "\n",
            "Train Summary\tEpoch: 26 | Train Acc: 99.792% | Train Loss: 0.007\n",
            "Test  Summary\tEpoch: 26 | Test Acc: 99.300% | Test Loss: 0.023\n",
            "\n",
            "Epoch 27\n",
            "Batch idx: 0(27)\tTrain Acc: 100.000%\tTrain Loss: 0.000\n",
            "Batch idx: 100(27)\tTrain Acc: 99.899%\tTrain Loss: 0.004\n",
            "Batch idx: 200(27)\tTrain Acc: 99.914%\tTrain Loss: 0.004\n",
            "Batch idx: 300(27)\tTrain Acc: 99.896%\tTrain Loss: 0.005\n",
            "Batch idx: 400(27)\tTrain Acc: 99.893%\tTrain Loss: 0.005\n",
            "\n",
            "Train Summary\tEpoch: 27 | Train Acc: 99.883% | Train Loss: 0.005\n",
            "Test  Summary\tEpoch: 27 | Test Acc: 99.330% | Test Loss: 0.021\n",
            "\n",
            "Epoch 28\n",
            "Batch idx: 0(28)\tTrain Acc: 100.000%\tTrain Loss: 0.001\n",
            "Batch idx: 100(28)\tTrain Acc: 99.938%\tTrain Loss: 0.004\n",
            "Batch idx: 200(28)\tTrain Acc: 99.938%\tTrain Loss: 0.003\n",
            "Batch idx: 300(28)\tTrain Acc: 99.945%\tTrain Loss: 0.003\n",
            "Batch idx: 400(28)\tTrain Acc: 99.944%\tTrain Loss: 0.004\n",
            "\n",
            "Train Summary\tEpoch: 28 | Train Acc: 99.940% | Train Loss: 0.004\n",
            "Test  Summary\tEpoch: 28 | Test Acc: 99.380% | Test Loss: 0.021\n",
            "\n",
            "Epoch 29\n",
            "Batch idx: 0(29)\tTrain Acc: 100.000%\tTrain Loss: 0.002\n",
            "Batch idx: 100(29)\tTrain Acc: 99.954%\tTrain Loss: 0.003\n",
            "Batch idx: 200(29)\tTrain Acc: 99.957%\tTrain Loss: 0.003\n",
            "Batch idx: 300(29)\tTrain Acc: 99.964%\tTrain Loss: 0.003\n",
            "Batch idx: 400(29)\tTrain Acc: 99.961%\tTrain Loss: 0.003\n",
            "\n",
            "Train Summary\tEpoch: 29 | Train Acc: 99.963% | Train Loss: 0.003\n",
            "Test  Summary\tEpoch: 29 | Test Acc: 99.390% | Test Loss: 0.020\n",
            "\n",
            "---> Training is done! Elapsed time: 3.25063 minutes\n",
            "\n"
          ]
        }
      ],
      "source": [
        "import time\n",
        "t0 = time.time()\n",
        "\n",
        "print('---> Training a LeNet architecture on MNIST')\n",
        "model = train(model, trans, trainloader, testloader, EPOCHS, opt, loss_fun, lr_schedule, SAVE_TRAIN_DIR)\n",
        "# model = train_cl(model, DEVICE, trans, trainloader, testloader, EPOCHS, opt, loss_fun, lr_schedule, SAVE_TRAIN_DIR)\n",
        "print('---> Training is done! Elapsed time: %.5f minutes\\n' % ((time.time() - t0) / 60.))\n"
      ]
    },
    {
      "cell_type": "markdown",
      "metadata": {
        "pycharm": {}
      },
      "source": [
        "### <a name=margin>Compute margin distribution</a>\n",
        "Once we have our trained model we can proceed to measure its margin distribution. In order to approximate the distance to the boundary, we will use the subspace-constrained version of DeepFool. \n",
        "Then, we can use a procedure to perform this measurement on a sequence of subspaces.\n",
        "\n",
        "But first, we need to generate a list of the desired subspaces.\n"
      ]
    },
    {
      "cell_type": "code",
      "execution_count": 33,
      "metadata": {
        "pycharm": {}
      },
      "outputs": [],
      "source": [
        "from utils import generate_subspace_list\n",
        "from utils import compute_margin_distribution\n",
        "\n",
        "SUBSPACE_DIM = 8\n",
        "DIM = 28\n",
        "SUBSPACE_STEP = 1\n",
        "\n",
        "subspace_list = generate_subspace_list(SUBSPACE_DIM, DIM, SUBSPACE_STEP, channels=1)"
      ]
    },
    {
      "cell_type": "markdown",
      "metadata": {
        "pycharm": {}
      },
      "source": [
        "Let's get the result"
      ]
    },
    {
      "cell_type": "code",
      "execution_count": 34,
      "metadata": {
        "pycharm": {}
      },
      "outputs": [],
      "source": [
        "RESULTS_DIR = os.path.join(TREE_ROOT, 'Results/margin_%s/%s/' % ('MNIST', model.__class__.__name__))\n",
        "os.makedirs(RESULTS_DIR, exist_ok=True)\n",
        "\n",
        "NUM_SAMPLES_EVAL = 100\n",
        "indices = np.random.choice(len(testset), NUM_SAMPLES_EVAL, replace=False)\n",
        "\n",
        "eval_dataset = torch.utils.data.Subset(testset, indices[:NUM_SAMPLES_EVAL])\n",
        "eval_loader = torch.utils.data.DataLoader(eval_dataset, batch_size=BATCH_SIZE,\n",
        "                                          shuffle=False, num_workers=2, pin_memory=pin_memory)"
      ]
    },
    {
      "cell_type": "code",
      "execution_count": 38,
      "metadata": {
        "pycharm": {}
      },
      "outputs": [
        {
          "name": "stdout",
          "output_type": "stream",
          "text": [
            "Measuring margin distribution...\n"
          ]
        },
        {
          "name": "stdout",
          "output_type": "stream",
          "text": [
            "Subspace 0:\tMedian margin: 3.11755\n",
            "Subspace 1:\tMedian margin: 2.99269\n",
            "Subspace 2:\tMedian margin: 2.79966\n",
            "Subspace 3:\tMedian margin: 2.80258\n",
            "Subspace 4:\tMedian margin: 2.90837\n",
            "Subspace 5:\tMedian margin: 3.24357\n",
            "Subspace 6:\tMedian margin: 3.56113\n",
            "Subspace 7:\tMedian margin: 4.15028\n",
            "Subspace 8:\tMedian margin: 4.80468\n",
            "Subspace 9:\tMedian margin: 5.52894\n",
            "Subspace 10:\tMedian margin: 6.60961\n",
            "Subspace 11:\tMedian margin: 8.16529\n",
            "Subspace 12:\tMedian margin: 9.80862\n",
            "Subspace 13:\tMedian margin: 12.71251\n",
            "Subspace 14:\tMedian margin: 15.40014\n",
            "Subspace 15:\tMedian margin: 19.14406\n",
            "Subspace 16:\tMedian margin: 24.43485\n",
            "Subspace 17:\tMedian margin: 30.28903\n",
            "Subspace 18:\tMedian margin: 36.63302\n",
            "Subspace 19:\tMedian margin: 42.41574\n",
            "Subspace 20:\tMedian margin: 46.61681\n"
          ]
        }
      ],
      "source": [
        "margins = compute_margin_distribution(model, trans, eval_loader, subspace_list, RESULTS_DIR + 'ce_margins.npy')"
      ]
    },
    {
      "cell_type": "code",
      "execution_count": 42,
      "metadata": {},
      "outputs": [
        {
          "data": {
            "text/plain": [
              "'./Results/margin_MNIST/LeNet/ce_margins.npy'"
            ]
          },
          "execution_count": 42,
          "metadata": {},
          "output_type": "execute_result"
        }
      ],
      "source": [
        "RESULTS_DIR + 'ce_margins.npy'"
      ]
    },
    {
      "cell_type": "markdown",
      "metadata": {
        "pycharm": {}
      },
      "source": [
        "Finally let's plot the result"
      ]
    },
    {
      "cell_type": "code",
      "execution_count": 25,
      "metadata": {
        "pycharm": {}
      },
      "outputs": [],
      "source": [
        "from graphics import swarmplot\n",
        "%matplotlib inline"
      ]
    },
    {
      "cell_type": "code",
      "execution_count": 39,
      "metadata": {
        "pycharm": {}
      },
      "outputs": [
        {
          "data": {
            "image/png": "[encoded data removed]",
            "text/plain": [
              "<Figure size 1000x400 with 1 Axes>"
            ]
          },
          "metadata": {},
          "output_type": "display_data"
        }
      ],
      "source": [
        "swarmplot(margins, color='tab:blue')"
      ]
    },
    {
      "cell_type": "code",
      "execution_count": 40,
      "metadata": {},
      "outputs": [],
      "source": [
        "margins_ce = margins "
      ]
    },
    {
      "cell_type": "code",
      "execution_count": 27,
      "metadata": {},
      "outputs": [],
      "source": [
        "# margins_cl = margins "
      ]
    },
    {
      "cell_type": "code",
      "execution_count": 41,
      "metadata": {},
      "outputs": [
        {
          "ename": "TypeError",
          "evalue": "swarmplot() got an unexpected keyword argument 'labels'",
          "output_type": "error",
          "traceback": [
            "\u001b[0;31m---------------------------------------------------------------------------\u001b[0m",
            "\u001b[0;31mTypeError\u001b[0m                                 Traceback (most recent call last)",
            "\u001b[0;32m/tmp/ipykernel_523213/2208387826.py\u001b[0m in \u001b[0;36m<module>\u001b[0;34m\u001b[0m\n\u001b[0;32m----> 1\u001b[0;31m \u001b[0mswarmplot\u001b[0m\u001b[0;34m(\u001b[0m\u001b[0;34m[\u001b[0m\u001b[0mmargins_ce\u001b[0m\u001b[0;34m,\u001b[0m \u001b[0mmargins_cl\u001b[0m\u001b[0;34m]\u001b[0m\u001b[0;34m,\u001b[0m \u001b[0mlabels\u001b[0m\u001b[0;34m=\u001b[0m\u001b[0;34m[\u001b[0m\u001b[0;34m'ce'\u001b[0m\u001b[0;34m,\u001b[0m \u001b[0;34m'cl'\u001b[0m\u001b[0;34m]\u001b[0m\u001b[0;34m,\u001b[0m \u001b[0mcolors\u001b[0m\u001b[0;34m=\u001b[0m\u001b[0;34m[\u001b[0m\u001b[0;34m'red'\u001b[0m\u001b[0;34m,\u001b[0m \u001b[0;34m'blue'\u001b[0m\u001b[0;34m]\u001b[0m\u001b[0;34m)\u001b[0m\u001b[0;34m\u001b[0m\u001b[0;34m\u001b[0m\u001b[0m\n\u001b[0m",
            "\u001b[0;31mTypeError\u001b[0m: swarmplot() got an unexpected keyword argument 'labels'"
          ]
        }
      ],
      "source": [
        "swarmplot([margins_ce, margins_cl], labels=['ce', 'cl'], colors=['red', 'blue'])"
      ]
    },
    {
      "cell_type": "markdown",
      "metadata": {
        "pycharm": {}
      },
      "source": [
        "## <a name=flipped>Flipped MNIST</a>\n",
        "\n",
        "We now repeat the same procedure for the frequency flipped version of MNIST. We start first by flipping the data."
      ]
    },
    {
      "cell_type": "code",
      "execution_count": null,
      "metadata": {
        "pycharm": {}
      },
      "outputs": [],
      "source": [
        "from utils_dct import dct_flip\n",
        "\n",
        "flip_train_data = dct_flip(trainset.data.type(torch.float32).view([-1, 1, 28, 28]) / 255.)\n",
        "flip_test_data = dct_flip(testset.data.type(torch.float32).view([-1, 1, 28, 28]) / 255.)\n",
        "\n",
        "flip_trainset = torch.utils.data.TensorDataset(flip_train_data, trainset.targets)\n",
        "flip_testset = torch.utils.data.TensorDataset(flip_test_data, testset.targets)\n",
        "\n",
        "flip_trainloader = torch.utils.data.DataLoader(flip_trainset, batch_size=BATCH_SIZE, shuffle=True,\n",
        "                                               num_workers=2, pin_memory=pin_memory)\n",
        "flip_testloader = torch.utils.data.DataLoader(flip_testset, batch_size=BATCH_SIZE, shuffle=False,\n",
        "                                              num_workers=2, pin_memory=pin_memory)"
      ]
    },
    {
      "cell_type": "markdown",
      "metadata": {
        "pycharm": {}
      },
      "source": [
        "Because we want to simply rotate (flip) the data we feed the network, we need to modify the normalization layer to account for the new representation"
      ]
    },
    {
      "cell_type": "code",
      "execution_count": null,
      "metadata": {
        "pycharm": {}
      },
      "outputs": [],
      "source": [
        "from model_classes import TransformFlippedLayer\n",
        "flip_trans = TransformFlippedLayer(mean, std, [1, 28, 28], DEVICE)"
      ]
    },
    {
      "cell_type": "markdown",
      "metadata": {
        "pycharm": {}
      },
      "source": [
        "Let's train again a LeNet but on the data of the new (flipped) representation"
      ]
    },
    {
      "cell_type": "code",
      "execution_count": null,
      "metadata": {
        "pycharm": {}
      },
      "outputs": [],
      "source": [
        "flip_model = LeNet()\n",
        "flip_model = flip_model.to(DEVICE)\n",
        "\n",
        "SAVE_TRAIN_DIR = os.path.join(TREE_ROOT, 'Models/Generated/%s_flipped/%s/' % ('MNIST', model.__class__.__name__))\n",
        "os.makedirs(SAVE_TRAIN_DIR, exist_ok=True)\n",
        "\n",
        "opt = torch.optim.SGD(flip_model.parameters(), lr=MAX_LR, momentum=MOMENTUM, weight_decay=WEIGHT_DECAY)\n",
        "loss_fun = nn.CrossEntropyLoss()\n",
        "lr_schedule = lambda t: np.interp([t], [0, EPOCHS * 2 // 5, EPOCHS], [0, MAX_LR, 0])[0]\n",
        "\n",
        "t0 = time.time()\n",
        "\n",
        "print('\\n---> Training a LeNet architecture on Flipped MNIST')\n",
        "flip_model = train(flip_model, flip_trans, flip_trainloader, flip_testloader, EPOCHS, opt, loss_fun, lr_schedule, SAVE_TRAIN_DIR)\n",
        "print('---> Training is done! Elapsed time: %.5f minutes\\n' % ((time.time() - t0) / 60.))"
      ]
    },
    {
      "cell_type": "markdown",
      "metadata": {
        "pycharm": {}
      },
      "source": [
        "And compute the margin distribution of this model for the same data as before, but with a flipped representation"
      ]
    },
    {
      "cell_type": "code",
      "execution_count": null,
      "metadata": {
        "pycharm": {}
      },
      "outputs": [],
      "source": [
        "flip_eval_dataset = torch.utils.data.Subset(flip_testset, indices[:NUM_SAMPLES_EVAL])\n",
        "flip_eval_loader = torch.utils.data.DataLoader(flip_eval_dataset, batch_size=BATCH_SIZE,\n",
        "                                          shuffle=False, num_workers=2, pin_memory=pin_memory)\n",
        "\n",
        "RESULTS_DIR = os.path.join(TREE_ROOT, 'Results/margin_%s_flipped/%s/' % ('MNIST', model.__class__.__name__))\n",
        "os.makedirs(RESULTS_DIR, exist_ok=True)\n",
        "flip_margins = compute_margin_distribution(flip_model, flip_trans, flip_eval_loader, subspace_list, RESULTS_DIR + 'margins.npy')"
      ]
    },
    {
      "cell_type": "code",
      "execution_count": null,
      "metadata": {
        "pycharm": {}
      },
      "outputs": [],
      "source": [
        "swarmplot(flip_margins, color='tab:red')"
      ]
    },
    {
      "cell_type": "markdown",
      "metadata": {
        "pycharm": {}
      },
      "source": [
        "## <a name=images>Frequency manipulated image examples</a>\n",
        "\n",
        "We now show a few image examples from the modified versions of the standard datasets."
      ]
    },
    {
      "cell_type": "markdown",
      "metadata": {
        "pycharm": {}
      },
      "source": [
        "### <a name=flipped_im>Flipped images</a>"
      ]
    },
    {
      "cell_type": "markdown",
      "metadata": {
        "pycharm": {}
      },
      "source": [
        "Reproduce the flipped ImageNet examples of the Supplementary material"
      ]
    },
    {
      "cell_type": "code",
      "execution_count": null,
      "metadata": {
        "pycharm": {}
      },
      "outputs": [],
      "source": [
        "from PIL import Image\n",
        "import os\n",
        "import matplotlib.pyplot as plt\n",
        "\n",
        "IMAGE_DIR = os.path.join(TREE_ROOT, 'Images/')\n",
        "DATASET = 'ImageNet'\n",
        "\n",
        "for file in os.listdir(IMAGE_DIR + DATASET):\n",
        "    im = Image.open(os.path.join(IMAGE_DIR, DATASET, file))\n",
        "\n",
        "    im_flipped = dct_flip(torch.from_numpy(np.asarray(im).transpose((2, 0, 1))).float())\n",
        "    im_flipped = im_flipped - im_flipped.min()\n",
        "    im_flipped = im_flipped / im_flipped.max()\n",
        "    im_flipped = Image.fromarray((255 * im_flipped.permute(1, 2, 0).numpy()).astype(np.uint8))\n",
        "\n",
        "    cat_im = Image.new(im.mode, (2 * im.size[0], im.size[1]))\n",
        "    cat_im.paste(im, (0, 0))\n",
        "    cat_im.paste(im_flipped, (im.size[0], 0))\n",
        "\n",
        "    display(cat_im)"
      ]
    },
    {
      "cell_type": "markdown",
      "metadata": {
        "pycharm": {}
      },
      "source": [
        "Reproduce the flipped CIFAR-10 examples of the Supplementary material"
      ]
    },
    {
      "cell_type": "code",
      "execution_count": null,
      "metadata": {
        "pycharm": {}
      },
      "outputs": [],
      "source": [
        "DATASET = 'CIFAR10'\n",
        "\n",
        "for file in os.listdir(IMAGE_DIR + DATASET):\n",
        "    im = Image.open(os.path.join(IMAGE_DIR, DATASET, file))\n",
        "\n",
        "    im_flipped = dct_flip(torch.from_numpy(np.asarray(im).transpose((2, 0, 1))).float())\n",
        "    im_flipped = im_flipped - im_flipped.min()\n",
        "    im_flipped = im_flipped / im_flipped.max()\n",
        "    im_flipped = Image.fromarray((255 * im_flipped.permute(1, 2, 0).numpy()).astype(np.uint8))\n",
        "\n",
        "    cat_im = Image.new(im.mode, (2 * im.size[0], im.size[1]))\n",
        "    cat_im.paste(im, (0, 0))\n",
        "    cat_im.paste(im_flipped, (im.size[0], 0))\n",
        "\n",
        "    display(cat_im)"
      ]
    },
    {
      "cell_type": "markdown",
      "metadata": {
        "pycharm": {}
      },
      "source": [
        "Reproduce the flipped MNIST examples of the Supplementary material"
      ]
    },
    {
      "cell_type": "code",
      "execution_count": null,
      "metadata": {
        "pycharm": {}
      },
      "outputs": [],
      "source": [
        "DATASET = 'MNIST'\n",
        "\n",
        "for file in os.listdir(IMAGE_DIR + DATASET):\n",
        "    im = Image.open(os.path.join(IMAGE_DIR, DATASET, file))\n",
        "\n",
        "    im_flipped = dct_flip(torch.from_numpy(np.asarray(im)).float())\n",
        "    im_flipped = im_flipped - im_flipped.min()\n",
        "    im_flipped = im_flipped / im_flipped.max()\n",
        "    im_flipped = Image.fromarray((255 * im_flipped.numpy()).astype(np.uint8))\n",
        "\n",
        "    cat_im = Image.new(im.mode, (2 * im.size[0], im.size[1]))\n",
        "    cat_im.paste(im, (0, 0))\n",
        "    cat_im.paste(im_flipped, (im.size[0], 0))\n",
        "\n",
        "    display(cat_im)"
      ]
    },
    {
      "cell_type": "markdown",
      "metadata": {
        "pycharm": {}
      },
      "source": [
        "### <a name=filtered_im>Filtered images</a>"
      ]
    },
    {
      "cell_type": "code",
      "execution_count": null,
      "metadata": {
        "pycharm": {}
      },
      "outputs": [],
      "source": [
        "from utils_dct import dct_low_pass\n",
        "from utils_dct import dct_high_pass\n",
        "from utils_dct import dct_cutoff_low\n"
      ]
    },
    {
      "cell_type": "markdown",
      "metadata": {
        "pycharm": {}
      },
      "source": [
        "Reproduce the low-pass and high-pass CIFAR-10 examples of the Supplementary material"
      ]
    },
    {
      "cell_type": "code",
      "execution_count": null,
      "metadata": {
        "pycharm": {}
      },
      "outputs": [],
      "source": [
        "DATASET = 'CIFAR10'\n",
        "BANDWIDTH = 16\n",
        "\n",
        "for file in os.listdir(IMAGE_DIR + DATASET):\n",
        "    im = Image.open(os.path.join(IMAGE_DIR, DATASET, file))\n",
        "\n",
        "    im_lp = dct_low_pass(torch.from_numpy(np.asarray(im).transpose((2, 0, 1))).float(), bandwidth=BANDWIDTH)\n",
        "    im_lp = im_lp - im_lp.min()\n",
        "    im_lp = im_lp / im_lp.max()\n",
        "    im_lp = Image.fromarray((255 * im_lp.permute(1, 2, 0).numpy()).astype(np.uint8))\n",
        "    \n",
        "    im_hp = dct_high_pass(torch.from_numpy(np.asarray(im).transpose((2, 0, 1))).float(), bandwidth=BANDWIDTH)\n",
        "    im_hp = im_hp - im_hp.min()\n",
        "    im_hp = im_hp / im_hp.max()\n",
        "    im_hp = Image.fromarray((255 * im_hp.permute(1, 2, 0).numpy()).astype(np.uint8))\n",
        "\n",
        "    cat_im = Image.new(im.mode, (3 * im.size[0], im.size[1]))\n",
        "    cat_im.paste(im, (0, 0))\n",
        "    cat_im.paste(im_lp, (im.size[0], 0))\n",
        "    cat_im.paste(im_hp, (2 * im.size[0], 0))\n",
        "\n",
        "    display(cat_im)"
      ]
    },
    {
      "cell_type": "markdown",
      "metadata": {
        "pycharm": {}
      },
      "source": [
        "Reproduce the high-pass MNIST examples of the Supplementary material"
      ]
    },
    {
      "cell_type": "code",
      "execution_count": null,
      "metadata": {
        "pycharm": {}
      },
      "outputs": [],
      "source": [
        "DATASET = 'MNIST'\n",
        "BANDWIDTH = 14\n",
        "\n",
        "for file in os.listdir(IMAGE_DIR + DATASET):\n",
        "    im = Image.open(os.path.join(IMAGE_DIR, DATASET, file))\n",
        "    \n",
        "    im_hp = dct_cutoff_low(torch.from_numpy(np.asarray(im)).float(), bandwidth=BANDWIDTH)\n",
        "    im_hp = im_hp - im_hp.min()\n",
        "    im_hp = im_hp / im_hp.max()\n",
        "    im_hp = Image.fromarray((255 * im_hp.numpy()).astype(np.uint8))\n",
        "\n",
        "    cat_im = Image.new(im.mode, (2 * im.size[0], im.size[1]))\n",
        "    cat_im.paste(im, (0, 0))\n",
        "    cat_im.paste(im_hp, (im.size[0], 0))\n",
        "\n",
        "    display(cat_im)"
      ]
    }
  ],
  "metadata": {
    "kernelspec": {
      "display_name": "Python 3",
      "language": "python",
      "name": "python3"
    },
    "language_info": {
      "codemirror_mode": {
        "name": "ipython",
        "version": 3
      },
      "file_extension": ".py",
      "mimetype": "text/x-python",
      "name": "python",
      "nbconvert_exporter": "python",
      "pygments_lexer": "ipython3",
      "version": "3.9.13"
    }
  },
  "nbformat": 4,
  "nbformat_minor": 4
}
